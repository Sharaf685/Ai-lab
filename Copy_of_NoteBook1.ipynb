{
  "nbformat": 4,
  "nbformat_minor": 0,
  "metadata": {
    "colab": {
      "name": "Copy of NoteBook1.ipynb",
      "provenance": [],
      "collapsed_sections": []
    },
    "kernelspec": {
      "name": "python3",
      "display_name": "Python 3"
    }
  },
  "cells": [
    {
      "cell_type": "code",
      "metadata": {
        "id": "Uxq3UDwvhrE0",
        "colab": {
          "base_uri": "https://localhost:8080/"
        },
        "outputId": "9e10a5db-de50-4f3a-fd04-e2fa08990a9d"
      },
      "source": [
        "print(\"Hello World\")"
      ],
      "execution_count": null,
      "outputs": [
        {
          "output_type": "stream",
          "text": [
            "Hello World\n"
          ],
          "name": "stdout"
        }
      ]
    },
    {
      "cell_type": "code",
      "metadata": {
        "id": "qg4HmHdtxuP8",
        "colab": {
          "base_uri": "https://localhost:8080/"
        },
        "outputId": "adb5f883-93f2-458b-b591-3dd7d5bb2f2a"
      },
      "source": [
        "x=7\n",
        "y=3\n",
        "print(x+y)"
      ],
      "execution_count": null,
      "outputs": [
        {
          "output_type": "stream",
          "text": [
            "10\n"
          ],
          "name": "stdout"
        }
      ]
    },
    {
      "cell_type": "code",
      "metadata": {
        "id": "6GCg41RshUaU",
        "colab": {
          "base_uri": "https://localhost:8080/",
          "height": 34
        },
        "outputId": "edf3f11c-99e4-47db-afaf-f70348642885"
      },
      "source": [
        "total = x+y\n",
        "print(total)"
      ],
      "execution_count": null,
      "outputs": [
        {
          "output_type": "stream",
          "text": [
            "10\n"
          ],
          "name": "stdout"
        }
      ]
    },
    {
      "cell_type": "code",
      "metadata": {
        "id": "as_Y45lGiOqV",
        "colab": {
          "base_uri": "https://localhost:8080/"
        },
        "outputId": "6adf5479-3061-4a53-b5fd-73fc25d33e02"
      },
      "source": [
        "name = \"Sharaf\"\n",
        "name2 = \"Rad\"\n",
        "print(name , name2)"
      ],
      "execution_count": null,
      "outputs": [
        {
          "output_type": "stream",
          "text": [
            "Md.Atik Bhuiyan\n"
          ],
          "name": "stdout"
        }
      ]
    },
    {
      "cell_type": "code",
      "metadata": {
        "id": "oke7C20Viioe",
        "colab": {
          "base_uri": "https://localhost:8080/"
        },
        "outputId": "9fbd9123-796c-43e9-87c4-583a8a5cf8c2"
      },
      "source": [
        "x =10\n",
        "type(x)"
      ],
      "execution_count": null,
      "outputs": [
        {
          "output_type": "execute_result",
          "data": {
            "text/plain": [
              "int"
            ]
          },
          "metadata": {
            "tags": []
          },
          "execution_count": 12
        }
      ]
    },
    {
      "cell_type": "code",
      "metadata": {
        "id": "xOJJ_57QipiH",
        "colab": {
          "base_uri": "https://localhost:8080/"
        },
        "outputId": "0016af9b-114d-43b0-df82-a9a682398932"
      },
      "source": [
        "type(10.5)"
      ],
      "execution_count": null,
      "outputs": [
        {
          "output_type": "execute_result",
          "data": {
            "text/plain": [
              "float"
            ]
          },
          "metadata": {
            "tags": []
          },
          "execution_count": 13
        }
      ]
    },
    {
      "cell_type": "code",
      "metadata": {
        "id": "9Lkp3pxxixbm",
        "colab": {
          "base_uri": "https://localhost:8080/"
        },
        "outputId": "46e5c3dc-8f60-4be2-8877-c057e2f1ddb9"
      },
      "source": [
        "type(name)"
      ],
      "execution_count": null,
      "outputs": [
        {
          "output_type": "execute_result",
          "data": {
            "text/plain": [
              "str"
            ]
          },
          "metadata": {
            "tags": []
          },
          "execution_count": 14
        }
      ]
    },
    {
      "cell_type": "code",
      "metadata": {
        "id": "NIjoLulyizOG",
        "colab": {
          "base_uri": "https://localhost:8080/"
        },
        "outputId": "cc502971-6000-4702-8654-cdb90d051de4"
      },
      "source": [
        " multiplication = 7*4\n",
        " print(multiplication)"
      ],
      "execution_count": null,
      "outputs": [
        {
          "output_type": "stream",
          "text": [
            "28\n"
          ],
          "name": "stdout"
        }
      ]
    },
    {
      "cell_type": "code",
      "metadata": {
        "id": "PxM6_sUGjXOv",
        "colab": {
          "base_uri": "https://localhost:8080/"
        },
        "outputId": "061310ab-7385-4781-c73d-2e69ddb1621c"
      },
      "source": [
        "add = 10+15\n",
        "print(add)"
      ],
      "execution_count": null,
      "outputs": [
        {
          "output_type": "stream",
          "text": [
            "25\n"
          ],
          "name": "stdout"
        }
      ]
    },
    {
      "cell_type": "code",
      "metadata": {
        "id": "scDBw7zjjiIH",
        "colab": {
          "base_uri": "https://localhost:8080/"
        },
        "outputId": "a554e371-d6ca-4f71-d383-86eb1895afb5"
      },
      "source": [
        "sub = 40-8\n",
        "print(sub)"
      ],
      "execution_count": null,
      "outputs": [
        {
          "output_type": "stream",
          "text": [
            "32\n"
          ],
          "name": "stdout"
        }
      ]
    },
    {
      "cell_type": "code",
      "metadata": {
        "id": "7omshX93jm3n",
        "colab": {
          "base_uri": "https://localhost:8080/"
        },
        "outputId": "b7ac34a9-55e8-478e-c3fa-a3e807ad3161"
      },
      "source": [
        "Exponentiation = 2**10\n",
        "print(Exponentiation)"
      ],
      "execution_count": null,
      "outputs": [
        {
          "output_type": "stream",
          "text": [
            "1024\n"
          ],
          "name": "stdout"
        }
      ]
    },
    {
      "cell_type": "code",
      "metadata": {
        "id": "9LAUD0saj24_",
        "colab": {
          "base_uri": "https://localhost:8080/"
        },
        "outputId": "14e30279-7f7a-451b-926d-593c456fcc83"
      },
      "source": [
        "True_Division = 7/4\n",
        "print(True_Division)"
      ],
      "execution_count": null,
      "outputs": [
        {
          "output_type": "stream",
          "text": [
            "1.75\n"
          ],
          "name": "stdout"
        }
      ]
    },
    {
      "cell_type": "code",
      "metadata": {
        "id": "79gA8Z7vkO3o",
        "colab": {
          "base_uri": "https://localhost:8080/"
        },
        "outputId": "72bce777-bcc6-45ea-9c3b-3d06c5c154f0"
      },
      "source": [
        "Floor_Division = 7//4\n",
        "print(Floor_Division)"
      ],
      "execution_count": null,
      "outputs": [
        {
          "output_type": "stream",
          "text": [
            "1\n"
          ],
          "name": "stdout"
        }
      ]
    },
    {
      "cell_type": "code",
      "metadata": {
        "id": "4LHWmh9gkf5n",
        "colab": {
          "base_uri": "https://localhost:8080/"
        },
        "outputId": "931127d6-1f9d-4bef-ad0e-6019f2993ac8"
      },
      "source": [
        "remainder = 15%7\n",
        "print(remainder)"
      ],
      "execution_count": null,
      "outputs": [
        {
          "output_type": "stream",
          "text": [
            "1\n"
          ],
          "name": "stdout"
        }
      ]
    },
    {
      "cell_type": "code",
      "metadata": {
        "id": "zyOV_Z4-l06D"
      },
      "source": [
        "x = 105\n",
        "y = 100"
      ],
      "execution_count": null,
      "outputs": []
    },
    {
      "cell_type": "code",
      "metadata": {
        "id": "QYIogwjbl1kb",
        "colab": {
          "base_uri": "https://localhost:8080/"
        },
        "outputId": "36e553b4-68d0-481a-9959-9a5499860204"
      },
      "source": [
        "x>y"
      ],
      "execution_count": null,
      "outputs": [
        {
          "output_type": "execute_result",
          "data": {
            "text/plain": [
              "True"
            ]
          },
          "metadata": {
            "tags": []
          },
          "execution_count": 60
        }
      ]
    },
    {
      "cell_type": "code",
      "metadata": {
        "id": "k4TzTYm2l2Tn",
        "colab": {
          "base_uri": "https://localhost:8080/"
        },
        "outputId": "95e1f303-f274-4df7-9647-4a7dc611957c"
      },
      "source": [
        "x<y"
      ],
      "execution_count": null,
      "outputs": [
        {
          "output_type": "execute_result",
          "data": {
            "text/plain": [
              "False"
            ]
          },
          "metadata": {
            "tags": []
          },
          "execution_count": 61
        }
      ]
    },
    {
      "cell_type": "code",
      "metadata": {
        "id": "n0V32Q-SmG6i",
        "colab": {
          "base_uri": "https://localhost:8080/"
        },
        "outputId": "30997bb5-1971-4bf9-9d85-f9acc277917c"
      },
      "source": [
        "x==y"
      ],
      "execution_count": null,
      "outputs": [
        {
          "output_type": "execute_result",
          "data": {
            "text/plain": [
              "False"
            ]
          },
          "metadata": {
            "tags": []
          },
          "execution_count": 62
        }
      ]
    },
    {
      "cell_type": "code",
      "metadata": {
        "id": "kJJc69h8mG9W",
        "colab": {
          "base_uri": "https://localhost:8080/"
        },
        "outputId": "8a16d560-feed-4677-bbdc-832812f290f3"
      },
      "source": [
        "x!=y"
      ],
      "execution_count": null,
      "outputs": [
        {
          "output_type": "execute_result",
          "data": {
            "text/plain": [
              "True"
            ]
          },
          "metadata": {
            "tags": []
          },
          "execution_count": 53
        }
      ]
    },
    {
      "cell_type": "code",
      "metadata": {
        "id": "85-ynPF1mHC2",
        "colab": {
          "base_uri": "https://localhost:8080/"
        },
        "outputId": "9650ea8b-1136-418d-8d07-af4c6d973274"
      },
      "source": [
        "x>=y"
      ],
      "execution_count": null,
      "outputs": [
        {
          "output_type": "execute_result",
          "data": {
            "text/plain": [
              "True"
            ]
          },
          "metadata": {
            "tags": []
          },
          "execution_count": 63
        }
      ]
    },
    {
      "cell_type": "code",
      "metadata": {
        "id": "pQTyjZwXmHBD",
        "colab": {
          "base_uri": "https://localhost:8080/"
        },
        "outputId": "9ffc2c69-0f05-415d-dc55-ca8206ecf57c"
      },
      "source": [
        "x<=y"
      ],
      "execution_count": null,
      "outputs": [
        {
          "output_type": "execute_result",
          "data": {
            "text/plain": [
              "False"
            ]
          },
          "metadata": {
            "tags": []
          },
          "execution_count": 64
        }
      ]
    },
    {
      "cell_type": "code",
      "metadata": {
        "id": "hlxRGBHtwNcJ"
      },
      "source": [
        "x = 3\n",
        "y = 10"
      ],
      "execution_count": null,
      "outputs": []
    },
    {
      "cell_type": "code",
      "metadata": {
        "id": "JckxAimYwUnj",
        "colab": {
          "base_uri": "https://localhost:8080/"
        },
        "outputId": "8af17c86-97de-43cb-d957-3aeac1eea76b"
      },
      "source": [
        "1 <= x <= 5"
      ],
      "execution_count": null,
      "outputs": [
        {
          "output_type": "execute_result",
          "data": {
            "text/plain": [
              "True"
            ]
          },
          "metadata": {
            "tags": []
          },
          "execution_count": 66
        }
      ]
    },
    {
      "cell_type": "code",
      "metadata": {
        "id": "_m8YjFPWwnYZ",
        "colab": {
          "base_uri": "https://localhost:8080/"
        },
        "outputId": "03d4e333-e578-4b0e-855e-c3ff26c293ab"
      },
      "source": [
        "1 <= y <= 5"
      ],
      "execution_count": null,
      "outputs": [
        {
          "output_type": "execute_result",
          "data": {
            "text/plain": [
              "False"
            ]
          },
          "metadata": {
            "tags": []
          },
          "execution_count": 67
        }
      ]
    },
    {
      "cell_type": "code",
      "metadata": {
        "id": "zZu85344k-pv",
        "colab": {
          "base_uri": "https://localhost:8080/"
        },
        "outputId": "f845f814-ca02-4034-e5cb-1a74775310ee"
      },
      "source": [
        "print('Welcome', 'to', 'Python!')"
      ],
      "execution_count": null,
      "outputs": [
        {
          "output_type": "stream",
          "text": [
            "Welcome to Python!\n"
          ],
          "name": "stdout"
        }
      ]
    },
    {
      "cell_type": "code",
      "metadata": {
        "id": "-JpAQC6BnEvf",
        "colab": {
          "base_uri": "https://localhost:8080/"
        },
        "outputId": "1e79f400-d77a-462e-842f-421da8d84c44"
      },
      "source": [
        "print('Welcome\\nto\\n\\nPython!')"
      ],
      "execution_count": null,
      "outputs": [
        {
          "output_type": "stream",
          "text": [
            "Welcome\n",
            "to\n",
            "\n",
            "Python!\n"
          ],
          "name": "stdout"
        }
      ]
    },
    {
      "cell_type": "code",
      "metadata": {
        "id": "3Hcf_xBjnZAw",
        "colab": {
          "base_uri": "https://localhost:8080/"
        },
        "outputId": "8808198a-b1aa-49eb-8866-7c726f536644"
      },
      "source": [
        "print('this is a longer string, so we \\\n",
        " split it over two lines')"
      ],
      "execution_count": null,
      "outputs": [
        {
          "output_type": "stream",
          "text": [
            "this is a longer string, so we  split it over two lines\n"
          ],
          "name": "stdout"
        }
      ]
    },
    {
      "cell_type": "code",
      "metadata": {
        "id": "4gzskSvCnsRj",
        "colab": {
          "base_uri": "https://localhost:8080/"
        },
        "outputId": "83f59c53-ab40-4936-ecac-b6ac2aad2b30"
      },
      "source": [
        "print('Sum is', 7 + 3)"
      ],
      "execution_count": null,
      "outputs": [
        {
          "output_type": "stream",
          "text": [
            "Sum is 10\n"
          ],
          "name": "stdout"
        }
      ]
    },
    {
      "cell_type": "code",
      "metadata": {
        "id": "M7c8lh-8n5LH",
        "colab": {
          "base_uri": "https://localhost:8080/"
        },
        "outputId": "c0af838d-d3df-4479-d0a3-792a67ff70d6"
      },
      "source": [
        "print('int(5.2)', 'truncates 5.2 to', int(5.2))"
      ],
      "execution_count": null,
      "outputs": [
        {
          "output_type": "stream",
          "text": [
            "int(5.2) truncates 5.2 to 5\n"
          ],
          "name": "stdout"
        }
      ]
    },
    {
      "cell_type": "code",
      "metadata": {
        "id": "0n4YdMLNpo8q",
        "colab": {
          "base_uri": "https://localhost:8080/"
        },
        "outputId": "1f044be9-6c80-44ca-b2de-2129310b0a6a"
      },
      "source": [
        "print('Display \"hi\" in quotes')"
      ],
      "execution_count": null,
      "outputs": [
        {
          "output_type": "stream",
          "text": [
            "Display \"hi\" in quotes\n"
          ],
          "name": "stdout"
        }
      ]
    },
    {
      "cell_type": "code",
      "metadata": {
        "id": "dks5HTI2qbBD",
        "colab": {
          "base_uri": "https://localhost:8080/"
        },
        "outputId": "31877cdf-c56b-42bd-cfd4-3752c42426b2"
      },
      "source": [
        "print('Display \\'hi\\' in quotes')   #using the \\' escape sequence:"
      ],
      "execution_count": null,
      "outputs": [
        {
          "output_type": "stream",
          "text": [
            "Display 'hi' in quotes\n"
          ],
          "name": "stdout"
        }
      ]
    },
    {
      "cell_type": "code",
      "metadata": {
        "id": "59Fmp73aq11h",
        "colab": {
          "base_uri": "https://localhost:8080/"
        },
        "outputId": "381fb1df-ffa3-4646-d4f1-defbbeccc3bb"
      },
      "source": [
        "print(\"Display the name O'Brien\")"
      ],
      "execution_count": null,
      "outputs": [
        {
          "output_type": "stream",
          "text": [
            "Display the name O'Brien\n"
          ],
          "name": "stdout"
        }
      ]
    },
    {
      "cell_type": "code",
      "metadata": {
        "id": "p5yJgI0_q2Dh",
        "colab": {
          "base_uri": "https://localhost:8080/"
        },
        "outputId": "f306ded1-1d6b-46e6-e30d-a5b713965bbf"
      },
      "source": [
        "print(\"Display \\\"hi\\\" in quotes\")"
      ],
      "execution_count": null,
      "outputs": [
        {
          "output_type": "stream",
          "text": [
            "Display \"hi\" in quotes\n"
          ],
          "name": "stdout"
        }
      ]
    },
    {
      "cell_type": "code",
      "metadata": {
        "id": "myznCbzMrHDI",
        "colab": {
          "base_uri": "https://localhost:8080/"
        },
        "outputId": "63e8bed5-3fc4-466c-9479-13af9a9c6330"
      },
      "source": [
        "print(\"\"\"Display \"hi\" and 'bye' in quotes\"\"\")"
      ],
      "execution_count": null,
      "outputs": [
        {
          "output_type": "stream",
          "text": [
            "Display \"hi\" and 'bye' in quotes\n"
          ],
          "name": "stdout"
        }
      ]
    },
    {
      "cell_type": "code",
      "metadata": {
        "id": "vo223kG9rRxy"
      },
      "source": [
        "triple_quoted_string = \"\"\"This is a triple-quoted\n",
        "string that spans two lines\"\"\""
      ],
      "execution_count": null,
      "outputs": []
    },
    {
      "cell_type": "code",
      "metadata": {
        "id": "g4RB-yLYrVs5",
        "colab": {
          "base_uri": "https://localhost:8080/"
        },
        "outputId": "e317f5fc-617f-44f1-e906-fe57ea5aeeea"
      },
      "source": [
        "print(triple_quoted_string)"
      ],
      "execution_count": null,
      "outputs": [
        {
          "output_type": "stream",
          "text": [
            "This is a triple-quoted\n",
            "string that spans two lines\n"
          ],
          "name": "stdout"
        }
      ]
    },
    {
      "cell_type": "code",
      "metadata": {
        "id": "ncWZyiJorbMR",
        "colab": {
          "base_uri": "https://localhost:8080/",
          "height": 35
        },
        "outputId": "66fb1c81-7ce2-49d0-9ea5-ef2c22604511"
      },
      "source": [
        "triple_quoted_string"
      ],
      "execution_count": null,
      "outputs": [
        {
          "output_type": "execute_result",
          "data": {
            "application/vnd.google.colaboratory.intrinsic+json": {
              "type": "string"
            },
            "text/plain": [
              "'This is a triple-quoted\\nstring that spans two lines'"
            ]
          },
          "metadata": {
            "tags": []
          },
          "execution_count": 90
        }
      ]
    },
    {
      "cell_type": "code",
      "metadata": {
        "id": "qc-4KCearr5B",
        "colab": {
          "base_uri": "https://localhost:8080/"
        },
        "outputId": "ee67cce2-718e-4131-bcfb-3033cc6cf0c2"
      },
      "source": [
        "print(\"\"\"This is a lengthy\n",
        "multiline string containing\n",
        "a few lines \\\n",
        "of text\"\"\")"
      ],
      "execution_count": null,
      "outputs": [
        {
          "output_type": "stream",
          "text": [
            "This is a lengthy\n",
            "multiline string containing\n",
            "a few lines of text\n"
          ],
          "name": "stdout"
        }
      ]
    },
    {
      "cell_type": "code",
      "metadata": {
        "id": "b0JHoI0JKVT8"
      },
      "source": [
        "a = 3.4536475856"
      ],
      "execution_count": null,
      "outputs": []
    },
    {
      "cell_type": "code",
      "metadata": {
        "id": "kuJvceDlKqPQ",
        "colab": {
          "base_uri": "https://localhost:8080/"
        },
        "outputId": "7db33dc2-d2bf-48ae-e0fd-c8ae46c7d302"
      },
      "source": [
        "# using \"%\" to print value till 2 decimal places  \n",
        "print (\"The value of number till 2 decimal place(using %) is : \",end=\"\") \n",
        "print ('%.2f' %a) "
      ],
      "execution_count": null,
      "outputs": [
        {
          "output_type": "stream",
          "text": [
            "The value of number till 2 decimal place(using %) is : 3.45\n"
          ],
          "name": "stdout"
        }
      ]
    },
    {
      "cell_type": "code",
      "metadata": {
        "id": "axTnYCpxK5tB",
        "colab": {
          "base_uri": "https://localhost:8080/"
        },
        "outputId": "016c083e-3173-4e06-8f58-79940d360aff"
      },
      "source": [
        "# using \"%\" to print value till 4 decimal places  \n",
        "print (\"The value of number till 2 decimal place(using %) is : \",end=\"\") \n",
        "print ('%.4f' %a)"
      ],
      "execution_count": null,
      "outputs": [
        {
          "output_type": "stream",
          "text": [
            "The value of number till 2 decimal place(using %) is : 3.4536\n"
          ],
          "name": "stdout"
        }
      ]
    },
    {
      "cell_type": "code",
      "metadata": {
        "id": "gJNp2c4Or7jU",
        "colab": {
          "base_uri": "https://localhost:8080/"
        },
        "outputId": "d3f1e056-31e6-4f90-bbdf-7ef781cc01d4"
      },
      "source": [
        "name = input(\"What's your name? \")"
      ],
      "execution_count": null,
      "outputs": [
        {
          "output_type": "stream",
          "text": [
            "What's your name? Atik\n"
          ],
          "name": "stdout"
        }
      ]
    },
    {
      "cell_type": "code",
      "metadata": {
        "id": "GYbU-E9Ysdxq",
        "colab": {
          "base_uri": "https://localhost:8080/"
        },
        "outputId": "b989994d-74c0-467a-dc02-d1920f0be040"
      },
      "source": [
        "print(name)"
      ],
      "execution_count": null,
      "outputs": [
        {
          "output_type": "stream",
          "text": [
            "Atik\n"
          ],
          "name": "stdout"
        }
      ]
    },
    {
      "cell_type": "code",
      "metadata": {
        "id": "POY8NEimspCW",
        "colab": {
          "base_uri": "https://localhost:8080/"
        },
        "outputId": "1f7e63e5-7111-44e3-87fe-e112158e1d7d"
      },
      "source": [
        "value1 = input('Enter first number: ')\n",
        "value2 = input('Enter second number: ')"
      ],
      "execution_count": null,
      "outputs": [
        {
          "output_type": "stream",
          "text": [
            "Enter first number: 12\n",
            "Enter second number: 12\n"
          ],
          "name": "stdout"
        }
      ]
    },
    {
      "cell_type": "code",
      "metadata": {
        "id": "SxvaFVQvspQH",
        "colab": {
          "base_uri": "https://localhost:8080/"
        },
        "outputId": "c56c49de-43fb-4721-86db-96dc8b587f25"
      },
      "source": [
        "total = value1 + value2\n",
        "print(total)"
      ],
      "execution_count": null,
      "outputs": [
        {
          "output_type": "stream",
          "text": [
            "1212\n"
          ],
          "name": "stdout"
        }
      ]
    },
    {
      "cell_type": "code",
      "metadata": {
        "id": "yvsClnwOsp4D",
        "colab": {
          "base_uri": "https://localhost:8080/"
        },
        "outputId": "601a08c0-2c02-4718-b52a-18777fd5abbf"
      },
      "source": [
        "type(total) #python takes input as a string we have to type cast the input"
      ],
      "execution_count": null,
      "outputs": [
        {
          "output_type": "execute_result",
          "data": {
            "text/plain": [
              "str"
            ]
          },
          "metadata": {
            "tags": []
          },
          "execution_count": 103
        }
      ]
    },
    {
      "cell_type": "code",
      "metadata": {
        "id": "aZgwo8zLtnWs",
        "colab": {
          "base_uri": "https://localhost:8080/"
        },
        "outputId": "e9827982-f4a5-4a50-bcd0-737afdaad468"
      },
      "source": [
        "total = int(value1) + int(value2) #type casting to int format\n",
        "print(total)   "
      ],
      "execution_count": null,
      "outputs": [
        {
          "output_type": "stream",
          "text": [
            "24\n"
          ],
          "name": "stdout"
        }
      ]
    },
    {
      "cell_type": "code",
      "metadata": {
        "id": "OdkR_jdWuOqQ",
        "colab": {
          "base_uri": "https://localhost:8080/"
        },
        "outputId": "b60050ca-202a-4b38-e18c-1d67f84a55b9"
      },
      "source": [
        "another_value = int(input('Enter another integer: '))"
      ],
      "execution_count": null,
      "outputs": [
        {
          "output_type": "stream",
          "text": [
            "Enter another integer: 6\n"
          ],
          "name": "stdout"
        }
      ]
    },
    {
      "cell_type": "code",
      "metadata": {
        "id": "K6mR1xrFuWFb",
        "colab": {
          "base_uri": "https://localhost:8080/"
        },
        "outputId": "68411e63-5a47-44b9-e56d-cdc10c51838c"
      },
      "source": [
        "print(another_value)"
      ],
      "execution_count": null,
      "outputs": [
        {
          "output_type": "stream",
          "text": [
            "6\n"
          ],
          "name": "stdout"
        }
      ]
    },
    {
      "cell_type": "code",
      "metadata": {
        "id": "-5dzapcNuaWK",
        "colab": {
          "base_uri": "https://localhost:8080/"
        },
        "outputId": "b3c11426-6469-4f4b-a8f6-e96833490477"
      },
      "source": [
        "a, b = input().split()"
      ],
      "execution_count": null,
      "outputs": [
        {
          "output_type": "stream",
          "text": [
            "23 34\n"
          ],
          "name": "stdout"
        }
      ]
    },
    {
      "cell_type": "code",
      "metadata": {
        "id": "9vrLTTiTvekU",
        "colab": {
          "base_uri": "https://localhost:8080/"
        },
        "outputId": "75fbc087-cad2-49bb-ec81-858ccb820cc2"
      },
      "source": [
        "print(a , b)"
      ],
      "execution_count": null,
      "outputs": [
        {
          "output_type": "stream",
          "text": [
            "23 34\n"
          ],
          "name": "stdout"
        }
      ]
    },
    {
      "cell_type": "code",
      "metadata": {
        "id": "xYKYc-r4vm5i",
        "colab": {
          "base_uri": "https://localhost:8080/"
        },
        "outputId": "bf15e016-4ae3-453d-8d59-cd55a3110c89"
      },
      "source": [
        "print(type(a))"
      ],
      "execution_count": null,
      "outputs": [
        {
          "output_type": "stream",
          "text": [
            "<class 'str'>\n"
          ],
          "name": "stdout"
        }
      ]
    },
    {
      "cell_type": "code",
      "metadata": {
        "id": "1Ozwy-sXv11i",
        "colab": {
          "base_uri": "https://localhost:8080/"
        },
        "outputId": "10c2ea9b-35c4-453c-c5ce-cfd592813065"
      },
      "source": [
        "number1 = int(input('Enter first integer: '))\n",
        "number2 = int(input('Enter second integer: '))\n",
        "number3 = int(input('Enter third integer: '))"
      ],
      "execution_count": null,
      "outputs": [
        {
          "output_type": "stream",
          "text": [
            "Enter first integer: 8\n",
            "Enter second integer: 78\n",
            "Enter third integer: 7\n"
          ],
          "name": "stdout"
        }
      ]
    },
    {
      "cell_type": "code",
      "metadata": {
        "id": "QCbW8r0ax_gg",
        "colab": {
          "base_uri": "https://localhost:8080/"
        },
        "outputId": "a0405b21-8e97-42d1-f6d5-f8b402404961"
      },
      "source": [
        "min(number1,number2,number3)"
      ],
      "execution_count": null,
      "outputs": [
        {
          "output_type": "execute_result",
          "data": {
            "text/plain": [
              "7"
            ]
          },
          "metadata": {
            "tags": []
          },
          "execution_count": 114
        }
      ]
    },
    {
      "cell_type": "code",
      "metadata": {
        "id": "cJPEu86JyAAJ",
        "colab": {
          "base_uri": "https://localhost:8080/"
        },
        "outputId": "b32d69a6-3d61-465b-a2ea-17caf24462f3"
      },
      "source": [
        "max(number1,number2,number3)"
      ],
      "execution_count": null,
      "outputs": [
        {
          "output_type": "execute_result",
          "data": {
            "text/plain": [
              "78"
            ]
          },
          "metadata": {
            "tags": []
          },
          "execution_count": 115
        }
      ]
    },
    {
      "cell_type": "markdown",
      "metadata": {
        "id": "avdLbmSvyx19"
      },
      "source": [
        "#***Exercises***\n",
        "\n",
        "---\n",
        "\n",
        "\n",
        "\n",
        "**Create the variables x = 2 and y = 3, then determine what\n",
        "each of the following statements displays:**\n",
        "\n",
        "*  print('x =', x)\n",
        "*  print('Value of', x, '+', x, 'is', (x + x))\n",
        "*  print('x =')\n",
        "*  print((x + y), '=', (y + x))\n",
        "\n",
        "\n",
        "---\n",
        "\n"
      ]
    },
    {
      "cell_type": "code",
      "metadata": {
        "colab": {
          "base_uri": "https://localhost:8080/"
        },
        "id": "vJSyVrc2VPJ8",
        "outputId": "4d97090f-7557-4b37-b49c-26dba8acc2ea"
      },
      "source": [
        "x=2\n",
        "print('x =', x)\n"
      ],
      "execution_count": null,
      "outputs": [
        {
          "output_type": "stream",
          "text": [
            "x = 2\n"
          ],
          "name": "stdout"
        }
      ]
    },
    {
      "cell_type": "code",
      "metadata": {
        "colab": {
          "base_uri": "https://localhost:8080/"
        },
        "id": "u0HCoWqxVfUI",
        "outputId": "13c7617c-66b2-4490-ac38-79f623bd46f5"
      },
      "source": [
        "x=2\n",
        "print('Value of', x, '+', x, 'is', (x + x))\n",
        "\n"
      ],
      "execution_count": null,
      "outputs": [
        {
          "output_type": "stream",
          "text": [
            "Value of 2 + 2 is 4\n"
          ],
          "name": "stdout"
        }
      ]
    },
    {
      "cell_type": "code",
      "metadata": {
        "colab": {
          "base_uri": "https://localhost:8080/"
        },
        "id": "N-KYa0pjVoMM",
        "outputId": "e8fdc62b-e842-47d9-ecd3-5199b9ff65b6"
      },
      "source": [
        "x=2\n",
        "\n",
        "print('x =')"
      ],
      "execution_count": null,
      "outputs": [
        {
          "output_type": "stream",
          "text": [
            "x =\n"
          ],
          "name": "stdout"
        }
      ]
    },
    {
      "cell_type": "code",
      "metadata": {
        "colab": {
          "base_uri": "https://localhost:8080/"
        },
        "id": "sI_nPXCWVw_6",
        "outputId": "80f30588-5cd9-4014-e635-ab7592000756"
      },
      "source": [
        "x=2\n",
        "y=3\n",
        "print((x + y), '=', (y + x))"
      ],
      "execution_count": null,
      "outputs": [
        {
          "output_type": "stream",
          "text": [
            "5 = 5\n"
          ],
          "name": "stdout"
        }
      ]
    }
  ]
}